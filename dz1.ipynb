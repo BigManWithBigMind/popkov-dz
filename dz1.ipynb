{
  "nbformat": 4,
  "nbformat_minor": 0,
  "metadata": {
    "colab": {
      "provenance": []
    },
    "kernelspec": {
      "name": "python3",
      "display_name": "Python 3"
    },
    "language_info": {
      "name": "python"
    }
  },
  "cells": [
    {
      "cell_type": "code",
      "execution_count": null,
      "metadata": {
        "id": "49gjkLggR1dg"
      },
      "outputs": [],
      "source": [
        "#DZ 1 Выполнил Попков Руслан Анатольевич РИ-400034\n",
        "import polars as pl\n",
        "import pandas as pd"
      ]
    },
    {
      "cell_type": "code",
      "source": [
        "#Polars\n",
        "#Чтение данных\n",
        "df_pl = pl.read_csv(\"train.csv\")"
      ],
      "metadata": {
        "id": "qqMhdpBwWT1b"
      },
      "execution_count": null,
      "outputs": []
    },
    {
      "cell_type": "code",
      "source": [
        "#Основная информация о датасете\n",
        "df_pl.info()"
      ],
      "metadata": {
        "colab": {
          "base_uri": "https://localhost:8080/",
          "height": 280
        },
        "id": "Jy89NRyEWgxi",
        "outputId": "b23cd91e-17a0-4848-b3e9-c8b15c1ae818"
      },
      "execution_count": null,
      "outputs": [
        {
          "output_type": "stream",
          "name": "stdout",
          "text": [
            "Requirement already satisfied: pandas in /usr/local/lib/python3.10/dist-packages (2.2.0)\n",
            "Requirement already satisfied: numpy<2,>=1.22.4 in /usr/local/lib/python3.10/dist-packages (from pandas) (1.25.2)\n",
            "Requirement already satisfied: python-dateutil>=2.8.2 in /usr/local/lib/python3.10/dist-packages (from pandas) (2.8.2)\n",
            "Requirement already satisfied: pytz>=2020.1 in /usr/local/lib/python3.10/dist-packages (from pandas) (2023.4)\n",
            "Requirement already satisfied: tzdata>=2022.7 in /usr/local/lib/python3.10/dist-packages (from pandas) (2024.1)\n",
            "Requirement already satisfied: six>=1.5 in /usr/local/lib/python3.10/dist-packages (from python-dateutil>=2.8.2->pandas) (1.16.0)\n"
          ]
        },
        {
          "output_type": "error",
          "ename": "AttributeError",
          "evalue": "'DataFrame' object has no attribute 'info'",
          "traceback": [
            "\u001b[0;31m---------------------------------------------------------------------------\u001b[0m",
            "\u001b[0;31mAttributeError\u001b[0m                            Traceback (most recent call last)",
            "\u001b[0;32m<ipython-input-18-17f247495f33>\u001b[0m in \u001b[0;36m<cell line: 3>\u001b[0;34m()\u001b[0m\n\u001b[1;32m      1\u001b[0m \u001b[0mget_ipython\u001b[0m\u001b[0;34m(\u001b[0m\u001b[0;34m)\u001b[0m\u001b[0;34m.\u001b[0m\u001b[0msystem\u001b[0m\u001b[0;34m(\u001b[0m\u001b[0;34m'pip install --upgrade pandas'\u001b[0m\u001b[0;34m)\u001b[0m\u001b[0;34m\u001b[0m\u001b[0;34m\u001b[0m\u001b[0m\n\u001b[1;32m      2\u001b[0m \u001b[0;31m#Основная информация о датасете\u001b[0m\u001b[0;34m\u001b[0m\u001b[0;34m\u001b[0m\u001b[0m\n\u001b[0;32m----> 3\u001b[0;31m \u001b[0mdf_pl\u001b[0m\u001b[0;34m.\u001b[0m\u001b[0minfo\u001b[0m\u001b[0;34m(\u001b[0m\u001b[0;34m)\u001b[0m\u001b[0;34m\u001b[0m\u001b[0;34m\u001b[0m\u001b[0m\n\u001b[0m",
            "\u001b[0;31mAttributeError\u001b[0m: 'DataFrame' object has no attribute 'info'"
          ]
        }
      ]
    },
    {
      "cell_type": "code",
      "source": [
        "# Подсчет количества пассажиров каждого класса (Pclass)\n",
        "passenger_count = df_pl.group_by('Pclass').agg(pl.count('Pclass').alias('Passenger_Count'))\n",
        "print(passenger_count)"
      ],
      "metadata": {
        "colab": {
          "base_uri": "https://localhost:8080/"
        },
        "id": "tCXYZ8DwW0D1",
        "outputId": "cb7ff9c5-df86-4b68-84c6-dde5109e9e74"
      },
      "execution_count": null,
      "outputs": [
        {
          "output_type": "stream",
          "name": "stdout",
          "text": [
            "shape: (3, 2)\n",
            "┌────────┬─────────────────┐\n",
            "│ Pclass ┆ Passenger_Count │\n",
            "│ ---    ┆ ---             │\n",
            "│ i64    ┆ u32             │\n",
            "╞════════╪═════════════════╡\n",
            "│ 2      ┆ 184             │\n",
            "│ 3      ┆ 491             │\n",
            "│ 1      ┆ 216             │\n",
            "└────────┴─────────────────┘\n"
          ]
        }
      ]
    },
    {
      "cell_type": "code",
      "source": [
        "# Фильтрация выживших пассаижров\n",
        "survived = df_pl.filter(df_pl['Survived'] == 1)\n",
        "\n",
        "# Подсчет количества выживших мужчин и женщин\n",
        "survived = survived.group_by('Sex').agg(pl.count('Sex').alias('Survived_Count'))\n",
        "print(survived)"
      ],
      "metadata": {
        "colab": {
          "base_uri": "https://localhost:8080/"
        },
        "id": "Bx5FJ-XLXgUt",
        "outputId": "0c2690d8-d61c-48bd-f0f3-23a857685cd0"
      },
      "execution_count": null,
      "outputs": [
        {
          "output_type": "stream",
          "name": "stdout",
          "text": [
            "shape: (2, 2)\n",
            "┌────────┬────────────────┐\n",
            "│ Sex    ┆ Survived_Count │\n",
            "│ ---    ┆ ---            │\n",
            "│ str    ┆ u32            │\n",
            "╞════════╪════════════════╡\n",
            "│ male   ┆ 109            │\n",
            "│ female ┆ 233            │\n",
            "└────────┴────────────────┘\n"
          ]
        }
      ]
    },
    {
      "cell_type": "code",
      "source": [
        "# Вывод части таблицы с пассажирами, возраст которых больше 44 лет\n",
        "old_pass = df_pl.filter(df_pl['Age'] > 44)\n",
        "print(old_pass)"
      ],
      "metadata": {
        "colab": {
          "base_uri": "https://localhost:8080/"
        },
        "id": "yiySBPwKYRPb",
        "outputId": "a86e1a54-9626-4de6-c157-30e166c829c5"
      },
      "execution_count": null,
      "outputs": [
        {
          "output_type": "stream",
          "name": "stdout",
          "text": [
            "shape: (115, 12)\n",
            "┌─────────────┬──────────┬────────┬──────────────────┬───┬────────────┬─────────┬───────┬──────────┐\n",
            "│ PassengerId ┆ Survived ┆ Pclass ┆ Name             ┆ … ┆ Ticket     ┆ Fare    ┆ Cabin ┆ Embarked │\n",
            "│ ---         ┆ ---      ┆ ---    ┆ ---              ┆   ┆ ---        ┆ ---     ┆ ---   ┆ ---      │\n",
            "│ i64         ┆ i64      ┆ i64    ┆ str              ┆   ┆ str        ┆ f64     ┆ str   ┆ str      │\n",
            "╞═════════════╪══════════╪════════╪══════════════════╪═══╪════════════╪═════════╪═══════╪══════════╡\n",
            "│ 7           ┆ 0        ┆ 1      ┆ McCarthy, Mr.    ┆ … ┆ 17463      ┆ 51.8625 ┆ E46   ┆ S        │\n",
            "│             ┆          ┆        ┆ Timothy J        ┆   ┆            ┆         ┆       ┆          │\n",
            "│ 12          ┆ 1        ┆ 1      ┆ Bonnell, Miss.   ┆ … ┆ 113783     ┆ 26.55   ┆ C103  ┆ S        │\n",
            "│             ┆          ┆        ┆ Elizabeth        ┆   ┆            ┆         ┆       ┆          │\n",
            "│ 16          ┆ 1        ┆ 2      ┆ Hewlett, Mrs.    ┆ … ┆ 248706     ┆ 16.0    ┆ null  ┆ S        │\n",
            "│             ┆          ┆        ┆ (Mary D          ┆   ┆            ┆         ┆       ┆          │\n",
            "│             ┆          ┆        ┆ Kingcome)        ┆   ┆            ┆         ┆       ┆          │\n",
            "│ 34          ┆ 0        ┆ 2      ┆ Wheadon, Mr.     ┆ … ┆ C.A. 24579 ┆ 10.5    ┆ null  ┆ S        │\n",
            "│             ┆          ┆        ┆ Edward H         ┆   ┆            ┆         ┆       ┆          │\n",
            "│ …           ┆ …        ┆ …      ┆ …                ┆ … ┆ …          ┆ …       ┆ …     ┆ …        │\n",
            "│ 863         ┆ 1        ┆ 1      ┆ Swift, Mrs.      ┆ … ┆ 17466      ┆ 25.9292 ┆ D17   ┆ S        │\n",
            "│             ┆          ┆        ┆ Frederick Joel   ┆   ┆            ┆         ┆       ┆          │\n",
            "│             ┆          ┆        ┆ (Marg…           ┆   ┆            ┆         ┆       ┆          │\n",
            "│ 872         ┆ 1        ┆ 1      ┆ Beckwith, Mrs.   ┆ … ┆ 11751      ┆ 52.5542 ┆ D35   ┆ S        │\n",
            "│             ┆          ┆        ┆ Richard Leonard  ┆   ┆            ┆         ┆       ┆          │\n",
            "│             ┆          ┆        ┆ (…               ┆   ┆            ┆         ┆       ┆          │\n",
            "│ 874         ┆ 0        ┆ 3      ┆ Vander Cruyssen, ┆ … ┆ 345765     ┆ 9.0     ┆ null  ┆ S        │\n",
            "│             ┆          ┆        ┆ Mr. Victor       ┆   ┆            ┆         ┆       ┆          │\n",
            "│ 880         ┆ 1        ┆ 1      ┆ Potter, Mrs.     ┆ … ┆ 11767      ┆ 83.1583 ┆ C50   ┆ C        │\n",
            "│             ┆          ┆        ┆ Thomas Jr (Lily  ┆   ┆            ┆         ┆       ┆          │\n",
            "│             ┆          ┆        ┆ Ale…             ┆   ┆            ┆         ┆       ┆          │\n",
            "└─────────────┴──────────┴────────┴──────────────────┴───┴────────────┴─────────┴───────┴──────────┘\n"
          ]
        }
      ]
    },
    {
      "cell_type": "code",
      "source": [
        "#Ускорение работы с pandas\n",
        "#Считывание датасета\n",
        "df_pd = pd.read_csv('train.csv')\n"
      ],
      "metadata": {
        "id": "G6mgylCZYiLc"
      },
      "execution_count": null,
      "outputs": []
    },
    {
      "cell_type": "code",
      "source": [
        "import bottleneck as bn\n",
        "# Подсчет среднего возраста пассажиров\n",
        "average_age = bn.nanmean(df_pd['Age'])\n",
        "# Подсчет стандартного отклонения возраста пассажиров\n",
        "std_age = bn.nanstd(df_pd['Age'])\n",
        "print(\"Средний возраст:\", round(average_age,1))\n",
        "print(\"Стандартное отклонение\", round(std_age,1))"
      ],
      "metadata": {
        "colab": {
          "base_uri": "https://localhost:8080/"
        },
        "id": "njm53bFoY08e",
        "outputId": "05b1c85a-c964-443b-b535-f3ed4b7266f1"
      },
      "execution_count": null,
      "outputs": [
        {
          "output_type": "stream",
          "name": "stdout",
          "text": [
            "Средний возраст: 29.7\n",
            "Стандартное отклонение 14.5\n"
          ]
        }
      ]
    },
    {
      "cell_type": "code",
      "source": [
        "# Определение функции для умножения значения столбца Fare в зависимости от класса билета\n",
        "def calculate_fare(row):\n",
        "    if row['Pclass'] in [1, 2]:\n",
        "        return row['Fare'] * 1.3\n",
        "    elif row['Pclass'] == 3:\n",
        "        return row['Fare'] * 1.1\n",
        "# Применение функции к каждой строке датасета и сохранение результата в новом столбце Fare_new\n",
        "df_pd['Fare_new'] = df_pd.apply(calculate_fare, axis=1)\n",
        "# Вывод первых нескольких строк датасета для проверки\n",
        "print(df_pd.head())"
      ],
      "metadata": {
        "colab": {
          "base_uri": "https://localhost:8080/"
        },
        "id": "5isYsWEQZWEL",
        "outputId": "96369e8a-c0fa-41e5-caa3-8dab27701aa0"
      },
      "execution_count": null,
      "outputs": [
        {
          "output_type": "stream",
          "name": "stdout",
          "text": [
            "   PassengerId  Survived  Pclass  \\\n",
            "0            1         0       3   \n",
            "1            2         1       1   \n",
            "2            3         1       3   \n",
            "3            4         1       1   \n",
            "4            5         0       3   \n",
            "\n",
            "                                                Name     Sex   Age  SibSp  \\\n",
            "0                            Braund, Mr. Owen Harris    male  22.0      1   \n",
            "1  Cumings, Mrs. John Bradley (Florence Briggs Th...  female  38.0      1   \n",
            "2                             Heikkinen, Miss. Laina  female  26.0      0   \n",
            "3       Futrelle, Mrs. Jacques Heath (Lily May Peel)  female  35.0      1   \n",
            "4                           Allen, Mr. William Henry    male  35.0      0   \n",
            "\n",
            "   Parch            Ticket     Fare Cabin Embarked  Fare_new  \n",
            "0      0         A/5 21171   7.2500   NaN        S   7.97500  \n",
            "1      0          PC 17599  71.2833   C85        C  92.66829  \n",
            "2      0  STON/O2. 3101282   7.9250   NaN        S   8.71750  \n",
            "3      0            113803  53.1000  C123        S  69.03000  \n",
            "4      0            373450   8.0500   NaN        S   8.85500  \n"
          ]
        }
      ]
    },
    {
      "cell_type": "code",
      "source": [
        "#Оптимизация типов pandas\n",
        "df = pd.read_csv(\"housing.csv\")"
      ],
      "metadata": {
        "id": "h3aU7ZUBalNQ"
      },
      "execution_count": 48,
      "outputs": []
    },
    {
      "cell_type": "code",
      "source": [
        "#До оптимизации\n",
        "df.info()"
      ],
      "metadata": {
        "id": "b3XAzKtcb9Et",
        "colab": {
          "base_uri": "https://localhost:8080/"
        },
        "outputId": "9714336e-816f-4ed9-d336-75de5eea47d1"
      },
      "execution_count": 49,
      "outputs": [
        {
          "output_type": "stream",
          "name": "stdout",
          "text": [
            "<class 'pandas.core.frame.DataFrame'>\n",
            "RangeIndex: 20640 entries, 0 to 20639\n",
            "Data columns (total 10 columns):\n",
            " #   Column              Non-Null Count  Dtype  \n",
            "---  ------              --------------  -----  \n",
            " 0   longitude           20640 non-null  float64\n",
            " 1   latitude            20640 non-null  float64\n",
            " 2   housing_median_age  20640 non-null  float64\n",
            " 3   total_rooms         20640 non-null  float64\n",
            " 4   total_bedrooms      20433 non-null  float64\n",
            " 5   population          20640 non-null  float64\n",
            " 6   households          20640 non-null  float64\n",
            " 7   median_income       20640 non-null  float64\n",
            " 8   median_house_value  20640 non-null  float64\n",
            " 9   ocean_proximity     20640 non-null  object \n",
            "dtypes: float64(9), object(1)\n",
            "memory usage: 1.6+ MB\n"
          ]
        }
      ]
    },
    {
      "cell_type": "code",
      "source": [
        "#Заполнение пустых ячеек\n",
        "df=df.fillna(0)\n",
        "#longitude    (min -124.35, max -114.31)\n",
        "#latitude (min 32.54 max 41.95)\n",
        "#housing_median_age (min 1 max 52)\n",
        "#total_rooms (min 2, max 39320)\n",
        "#total_bedrooms (min 1 max 6445)\n",
        "#population (min 3 max 1725)\n",
        "#households (min 1 max 6082)\n",
        "#median_income (min 0,4999 max 15.001)\n",
        "#median_house_value (min 14999 max 500001)"
      ],
      "metadata": {
        "id": "VUEvkPrYcMMf"
      },
      "execution_count": 53,
      "outputs": []
    },
    {
      "cell_type": "code",
      "source": [
        "#Изменение типов\n",
        "import numpy as np\n",
        "df['longitude'] = df['longitude'].astype(np.int8)\n",
        "df['latitude'] = df['latitude'].astype(np.uint8)\n",
        "df['housing_median_age'] = df['housing_median_age'].astype(np.uint8)\n",
        "df['total_rooms'] = df['total_rooms'].astype(np.uint8)\n",
        "df['total_bedrooms'] = df['total_bedrooms'].astype(np.uint16)\n",
        "df['population'] = df['population'].astype(np.uint16)\n",
        "df['households'] = df['households'].astype(np.uint16)\n",
        "df['median_income'] = df['median_income'].astype(np.float16)\n",
        "df['median_house_value'] = df['median_house_value'].astype(np.float16)"
      ],
      "metadata": {
        "colab": {
          "base_uri": "https://localhost:8080/"
        },
        "id": "7jWVuO3IcYbr",
        "outputId": "f0d6b3f0-6006-4440-88c4-ac8ec8208aca"
      },
      "execution_count": 51,
      "outputs": [
        {
          "output_type": "stream",
          "name": "stderr",
          "text": [
            "/usr/local/lib/python3.10/dist-packages/pandas/core/dtypes/astype.py:170: RuntimeWarning: overflow encountered in cast\n",
            "  ndarray or ExtensionArray\n"
          ]
        }
      ]
    },
    {
      "cell_type": "code",
      "source": [
        "#После оптимизации\n",
        "df.info()\n",
        "#Итог: после подбора оптимальных типов для столбцов потребление памяти снизилось с 1.6МБ до 443.6КБ (~4х)"
      ],
      "metadata": {
        "id": "iO8pE83ycZch",
        "colab": {
          "base_uri": "https://localhost:8080/"
        },
        "outputId": "86f62191-c4cd-4f83-c49e-139b9315c1da"
      },
      "execution_count": 54,
      "outputs": [
        {
          "output_type": "stream",
          "name": "stdout",
          "text": [
            "<class 'pandas.core.frame.DataFrame'>\n",
            "RangeIndex: 20640 entries, 0 to 20639\n",
            "Data columns (total 10 columns):\n",
            " #   Column              Non-Null Count  Dtype  \n",
            "---  ------              --------------  -----  \n",
            " 0   longitude           20640 non-null  int8   \n",
            " 1   latitude            20640 non-null  uint8  \n",
            " 2   housing_median_age  20640 non-null  uint8  \n",
            " 3   total_rooms         20640 non-null  uint8  \n",
            " 4   total_bedrooms      20640 non-null  uint16 \n",
            " 5   population          20640 non-null  uint16 \n",
            " 6   households          20640 non-null  uint16 \n",
            " 7   median_income       20640 non-null  float16\n",
            " 8   median_house_value  20640 non-null  float16\n",
            " 9   ocean_proximity     20640 non-null  object \n",
            "dtypes: float16(2), int8(1), object(1), uint16(3), uint8(3)\n",
            "memory usage: 443.6+ KB\n"
          ]
        }
      ]
    },
    {
      "cell_type": "code",
      "source": [],
      "metadata": {
        "id": "4sd-VBkAjtrW"
      },
      "execution_count": null,
      "outputs": []
    }
  ]
}